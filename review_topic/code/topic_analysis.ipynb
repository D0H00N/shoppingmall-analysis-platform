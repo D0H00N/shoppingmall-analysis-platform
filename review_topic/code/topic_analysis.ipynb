{
 "cells": [
  {
   "cell_type": "code",
   "execution_count": 8,
   "id": "4f8eafb7-4fe5-4f86-8cd4-a1011e07f608",
   "metadata": {},
   "outputs": [],
   "source": [
    "import pandas as pd\n",
    "import ast\n",
    "from sklearn.utils import resample\n",
    "\n",
    "# 데이터 로드\n",
    "file_path = \"./kobert/review_balanced_v2_cleaned_processed.csv\"\n",
    "df = pd.read_csv(file_path)"
   ]
  },
  {
   "cell_type": "code",
   "execution_count": 10,
   "id": "872aa30b-880f-4e90-b03e-8e2c82e72b5e",
   "metadata": {},
   "outputs": [
    {
     "name": "stdout",
     "output_type": "stream",
     "text": [
      "                                         review_text  \\\n",
      "0                  가죽이 부들부들해서 착화감이 좋아요\\n\\n색깔도 맘에 듭니다   \n",
      "1                  여름에 거의 매일 신고 다녔어요 오래 신어도 편하고 무난해요   \n",
      "2   신발 자체가 너무 이쁘고 키높이도 맘에 들어요! :) 자주 신고 다닐 거 같습니다 ㅎㅎ   \n",
      "3             배송이 빠르고 포장 꼼곰합니다.\\n발볼 넓은 버전도 나왔으면 좋겠네요   \n",
      "4                   내성발톱 있는데 발볼이 좁지 않아서 편하고 무난해서 좋아요   \n",
      "5                     너무 이쁘고 너무 핏좋고 너무 재질좋고 너무 부드러워요   \n",
      "6  무신사 스탠다드에서 레더 스니커즈 화이트를 구매해서 잘 신고 다니고 mark2로 재...   \n",
      "7  저는 한사이즈 업했습니다. 남친도 업하는게 맞더라구요.\\n당장 받아서 신어본 결과로...   \n",
      "8                  우포스는 항상 믿고 삽미다 편한 발을 위한 최고의 제품입니다   \n",
      "9                       오래신으면 발바닥이 아프긴 한데 가성비로 추천드려요   \n",
      "\n",
      "                                      cleaned_review  \n",
      "0                     가죽이 부들부들해서 착화감이 좋아요 색깔도 맘에 듭니다  \n",
      "1                  여름에 거의 매일 신고 다녔어요 오래 신어도 편하고 무난해요  \n",
      "2          신발 자체가 너무 이쁘고 키높이도 맘에 들어요 자주 신고 다닐 거 같습니다  \n",
      "3               배송이 빠르고 포장 꼼곰합니다 발볼 넓은 버전도 나왔으면 좋겠네요  \n",
      "4                   내성발톱 있는데 발볼이 좁지 않아서 편하고 무난해서 좋아요  \n",
      "5                     너무 이쁘고 너무 핏좋고 너무 재질좋고 너무 부드러워요  \n",
      "6   무신사 스탠다드에서 레더 스니커즈 화이트를 구매해서 잘 신고 다니고 로 재구매 했습니다  \n",
      "7  저는 한사이즈 업했습니다 남친도 업하는게 맞더라구요 당장 받아서 신어본 결과로는 편...  \n",
      "8                  우포스는 항상 믿고 삽미다 편한 발을 위한 최고의 제품입니다  \n",
      "9                       오래신으면 발바닥이 아프긴 한데 가성비로 추천드려요  \n"
     ]
    }
   ],
   "source": [
    "import pandas as pd\n",
    "import re\n",
    "import ast\n",
    "\n",
    "# 데이터 로드\n",
    "file_path = \"./kobert/review_balanced_v2_cleaned_processed.csv\"\n",
    "df = pd.read_csv(file_path)\n",
    "\n",
    "# categories 컬럼이 리스트 형태로 저장되어 있다면 변환\n",
    "df[\"categories\"] = df[\"categories\"].apply(ast.literal_eval)\n",
    "\n",
    "# 텍스트 정제 함수\n",
    "def clean_text(text):\n",
    "    # 특수문자 및 이모티콘 제거\n",
    "    text = re.sub(r\"[^가-힣\\s]\", \"\", text)\n",
    "\n",
    "    # 연속된 공백 제거\n",
    "    text = re.sub(r\"\\s+\", \" \", text).strip()\n",
    "\n",
    "    # 반복 문자 제거 (예: \"부들부들\" → \"부드러움\")\n",
    "    text = re.sub(r\"(.)\\1{2,}\", r\"\\1\", text)\n",
    "\n",
    "    return text\n",
    "\n",
    "# 정제된 리뷰 적용 (cleaned_review 업데이트)\n",
    "df[\"cleaned_review\"] = df[\"review_text\"].apply(clean_text)\n",
    "\n",
    "# 정제된 데이터 확인\n",
    "print(df[[\"review_text\", \"cleaned_review\"]].head(10))\n",
    "\n"
   ]
  },
  {
   "cell_type": "code",
   "execution_count": 11,
   "id": "aae15baf-73f5-4516-9ba8-48e5e4825b17",
   "metadata": {},
   "outputs": [
    {
     "name": "stdout",
     "output_type": "stream",
     "text": [
      "카테고리 리스트: ['가성비' '내구성 및 품질' '디자인' '배송 및 포장 및 응대' '사이즈' '착용감']\n",
      "One-Hot 인코딩 결과 샘플:\n",
      " [[0 1 1 0 0 1]\n",
      " [0 1 0 0 0 1]\n",
      " [0 0 1 0 0 0]\n",
      " [0 0 0 1 1 0]\n",
      " [0 0 0 0 1 1]]\n"
     ]
    }
   ],
   "source": [
    "from sklearn.preprocessing import MultiLabelBinarizer\n",
    "\n",
    "# 다중 레이블 인코딩 (One-Hot Encoding)\n",
    "mlb = MultiLabelBinarizer()\n",
    "y = mlb.fit_transform(df[\"categories\"])\n",
    "\n",
    "# 변환된 카테고리 확인\n",
    "print(\"카테고리 리스트:\", mlb.classes_)\n",
    "print(\"One-Hot 인코딩 결과 샘플:\\n\", y[:5])"
   ]
  },
  {
   "cell_type": "code",
   "execution_count": null,
   "id": "3dbce18d-8972-43bf-b713-53fb500b5046",
   "metadata": {},
   "outputs": [],
   "source": []
  },
  {
   "cell_type": "code",
   "execution_count": null,
   "id": "1cc5ed39-3ffd-45fe-b9b4-6505550f4b35",
   "metadata": {},
   "outputs": [],
   "source": []
  }
 ],
 "metadata": {
  "kernelspec": {
   "display_name": "Python (pytorch_env)",
   "language": "python",
   "name": "pytorch_env"
  },
  "language_info": {
   "codemirror_mode": {
    "name": "ipython",
    "version": 3
   },
   "file_extension": ".py",
   "mimetype": "text/x-python",
   "name": "python",
   "nbconvert_exporter": "python",
   "pygments_lexer": "ipython3",
   "version": "3.9.21"
  }
 },
 "nbformat": 4,
 "nbformat_minor": 5
}
